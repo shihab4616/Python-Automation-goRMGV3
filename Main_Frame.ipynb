{
 "cells": [
  {
   "cell_type": "code",
   "execution_count": 3,
   "metadata": {},
   "outputs": [],
   "source": [
    "from selenium.webdriver.support.ui import Select\n",
    "from selenium import webdriver\n",
    "from selenium.webdriver.chrome.service import Service\n",
    "from selenium.webdriver.common.by import By\n",
    "from selenium.webdriver.common.keys import Keys\n",
    "from selenium.webdriver.support.ui import WebDriverWait\n",
    "from selenium.webdriver.support import expected_conditions as EC\n",
    "from selenium.webdriver.common.action_chains import ActionChains\n",
    "from fpdf import FPDF\n",
    "import time\n",
    "from datetime import datetime"
   ]
  },
  {
   "cell_type": "code",
   "execution_count": 5,
   "metadata": {},
   "outputs": [
    {
     "name": "stderr",
     "output_type": "stream",
     "text": [
      "<>:2: SyntaxWarning: invalid escape sequence '\\S'\n",
      "<>:2: SyntaxWarning: invalid escape sequence '\\S'\n",
      "C:\\Users\\user\\AppData\\Local\\Temp\\ipykernel_9412\\2037816699.py:2: SyntaxWarning: invalid escape sequence '\\S'\n",
      "  CHROME_DRIVER_PATH = \"D:\\Shihab Ahmed\\Automation with Python\\Driver\\chromedriver-win64\\chromedriver.exe\"\n"
     ]
    }
   ],
   "source": [
    "# Path to chrome driver executable file\n",
    "CHROME_DRIVER_PATH = \"D:\\Shihab Ahmed\\Automation with Python\\Driver\\chromedriver-win64\\chromedriver.exe\"\n",
    "\n",
    "# URL of the login page\n",
    "LOGIN_PAGE_URL = \"https://gormg-v3-staging.skylarksoft.net/\"\n",
    "\n",
    "# Valid USER_ID and PASSWORD\n",
    "USER_ID = \"shihab@skylarksoft.com\"\n",
    "PASSWORD = \"shihab\""
   ]
  },
  {
   "cell_type": "code",
   "execution_count": 6,
   "metadata": {},
   "outputs": [],
   "source": [
    "service = Service(CHROME_DRIVER_PATH)\n",
    "driver = webdriver.Chrome(service=service)\n",
    "\n",
    "# Function to simulate typing with delay\n",
    "def type_with_delay(element, text, delay=0.1):\n",
    "    for char in text:\n",
    "        element.send_keys(char)\n",
    "        time.sleep(delay)\n",
    "\n",
    "# Initialize test results list\n",
    "test_results = []\n"
   ]
  },
  {
   "cell_type": "code",
   "execution_count": 7,
   "metadata": {},
   "outputs": [],
   "source": [
    "\n",
    "# Function to log test results\n",
    "def log_test_result(test_name, status, details=\"\"):\n",
    "    result = {\n",
    "        \"test_name\": test_name,\n",
    "        \"status\": \"Passed\" if status else \"Failed\",\n",
    "        \"details\": details,\n",
    "    }\n",
    "    test_results.append(result)"
   ]
  },
  {
   "cell_type": "code",
   "execution_count": null,
   "metadata": {},
   "outputs": [],
   "source": [
    "# Initialize Chrome driver\n",
    "\n",
    "\n",
    "# Perform te\n",
    "driver.get(LOGIN_PAGE_URL)\n",
    "\n",
    "# Test 1: Login without credentials\n",
    "login_button = driver.find_element(By.XPATH, '//*[@id=\"login\"]')\n",
    "login_button.click()\n",
    "time.sleep(2)\n",
    "if \"login\" in driver.current_url:\n",
    "    log_test_result(\"Test 1: Login without credentials\", True, \"Login failed as expected.\")\n",
    "else:\n",
    "    log_test_result(\"Test 1: Login without credentials\", False, \"Login succeeded unexpectedly.\")\n",
    "\n",
    "# Test 3: Login with valid credentials\n",
    "email_field = driver.find_element(By.ID, \"email\")\n",
    "password_field = driver.find_element(By.ID, \"password\")\n",
    "email_field.clear()\n",
    "password_field.clear()\n",
    "type_with_delay(email_field, USER_ID)\n",
    "type_with_delay(password_field, PASSWORD)\n",
    "login_button = driver.find_element(By.XPATH, '//*[@id=\"login\"]')\n",
    "login_button.click()\n",
    "time.sleep(3)\n",
    "if \"login\" not in driver.current_url:\n",
    "    log_test_result(\"Test 3: Login with valid credentials\", True, \"Login succeeded as expected.\")\n",
    "else:\n",
    "    log_test_result(\"Test 3: Login with valid credentials\", False, \"Login failed unexpectedly.\")\n",
    "\n"
   ]
  },
  {
   "cell_type": "markdown",
   "metadata": {},
   "source": [
    "Genarating pdf"
   ]
  },
  {
   "cell_type": "code",
   "execution_count": null,
   "metadata": {},
   "outputs": [],
   "source": [
    "\n",
    "# PDF Generation\n",
    "class PDF(FPDF):\n",
    "    # pdf header text \n",
    "    def header(self):\n",
    "        self.set_font(\"Arial\", size=12, style=\"B\")\n",
    "        self.cell(0, 10, \"Automated Test Results Report\", ln=True, align=\"C\")\n",
    "        self.ln(10)\n",
    "    # Page numbering\n",
    "    def footer(self):\n",
    "        self.set_y(-15)\n",
    "        self.set_font(\"Arial\", size=10)\n",
    "        self.cell(0, 10, f\"Page {self.page_no()}\", align=\"C\")\n",
    "    # Test results \n",
    "    def add_test_result(self, test_name, status, details):\n",
    "        self.set_font(\"Arial\", size=12)\n",
    "        self.cell(0, 10, f\"Test: {test_name}\", ln=True)\n",
    "        self.set_font(\"Arial\", size=10)\n",
    "        self.cell(0, 10, f\"Status: {status}\", ln=True)\n",
    "        self.multi_cell(0, 10, f\"Details: {details}\")\n",
    "        self.ln(5)\n",
    "\n",
    "\n",
    "# Function to generate PDF report from test results list\n",
    "def generate_pdf(pdf_file_path, test_results):\n",
    "    pdf = PDF()\n",
    "    pdf.add_page()\n",
    "    pdf.set_auto_page_break(auto=True, margin=15)\n",
    "\n",
    "    for result in test_results:\n",
    "        pdf.add_test_result(result[\"test_name\"], result[\"status\"], result[\"details\"])\n",
    "\n",
    "    pdf.output(pdf_file_path)\n",
    "\n",
    "# Saving the PDF report\n",
    "\n"
   ]
  },
  {
   "cell_type": "markdown",
   "metadata": {},
   "source": [
    "this code is for saving pdf"
   ]
  },
  {
   "cell_type": "code",
   "execution_count": null,
   "metadata": {},
   "outputs": [],
   "source": [
    "pdf_file_path = \"D:\\\\Shihab Ahmed\\\\Automation with Python\\\\goRMG_Order\\\\Test_Reports.pdf\"\n",
    "generate_pdf(pdf_file_path, test_results)\n",
    "print(f\"\\nPDF report saved to {pdf_file_path}\")"
   ]
  }
 ],
 "metadata": {
  "kernelspec": {
   "display_name": "Python 3",
   "language": "python",
   "name": "python3"
  },
  "language_info": {
   "codemirror_mode": {
    "name": "ipython",
    "version": 3
   },
   "file_extension": ".py",
   "mimetype": "text/x-python",
   "name": "python",
   "nbconvert_exporter": "python",
   "pygments_lexer": "ipython3",
   "version": "3.13.0"
  }
 },
 "nbformat": 4,
 "nbformat_minor": 2
}
